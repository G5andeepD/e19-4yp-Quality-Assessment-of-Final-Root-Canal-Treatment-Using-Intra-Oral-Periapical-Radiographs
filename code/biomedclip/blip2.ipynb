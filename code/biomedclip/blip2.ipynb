{
 "cells": [
  {
   "cell_type": "code",
   "execution_count": null,
   "id": "b24a0e41",
   "metadata": {},
   "outputs": [],
   "source": [
    "from PIL import Image\n",
    "from transformers import BlipProcessor, Blip2ForConditionalGeneration\n",
    "import torch\n",
    "\n",
    "processor = BlipProcessor.from_pretrained(\"Salesforce/blip2-flan-t5-xl\")\n",
    "model = Blip2ForConditionalGeneration.from_pretrained(\"Salesforce/blip2-flan-t5-xl\")\n",
    "\n",
    "device = torch.device('cuda') if torch.cuda.is_available() else torch.device('cpu')\n",
    "\n",
    "images = [\n",
    "    '381-aruna.jpg',\n",
    "    '560-24-kalani.jpg',\n",
    "    '573-priyanka.jpg'\n",
    "]\n",
    "\n",
    "prompt = \"Describe the quality of the root canal treatment in this radiograph. Mention underfill, overfill, or missed canals if visible.\"\n",
    "inputs = processor(images, prompt, return_tensors=\"pt\").to(device)\n",
    "\n",
    "out = model.generate(**inputs)\n",
    "print(processor.decode(out[0], skip_special_tokens=True))"
   ]
  }
 ],
 "metadata": {
  "kernelspec": {
   "display_name": "biomedclip",
   "language": "python",
   "name": "python3"
  },
  "language_info": {
   "name": "python",
   "version": "3.10.16"
  }
 },
 "nbformat": 4,
 "nbformat_minor": 5
}
